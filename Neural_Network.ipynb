{
 "cells": [
  {
   "cell_type": "code",
   "execution_count": 6,
   "metadata": {},
   "outputs": [],
   "source": [
    "import numpy as np\n",
    "import matplotlib.pyplot as plt\n",
    "import seaborn as sns\n"
   ]
  },
  {
   "cell_type": "code",
   "execution_count": 10,
   "metadata": {},
   "outputs": [],
   "source": [
    "plt.rcParams['figure.figsize'] = (16,9)\n",
    "sns.set()"
   ]
  },
  {
   "cell_type": "code",
   "execution_count": 51,
   "metadata": {},
   "outputs": [],
   "source": [
    "def sigmoid(x):\n",
    "    return 1./(1 + np.exp(-x))\n",
    "\n",
    "def sigmoid_derivative(x):\n",
    "    ### x = sigmoid(x) , s'(x) = s(x)(1 - s(x))\n",
    "    return x * (1.0 - x)\n",
    "\n"
   ]
  },
  {
   "cell_type": "code",
   "execution_count": 19,
   "metadata": {},
   "outputs": [],
   "source": [
    "xx = np.linspace(-100, 100 , 1000)\n"
   ]
  },
  {
   "cell_type": "code",
   "execution_count": 24,
   "metadata": {},
   "outputs": [
    {
     "data": {
      "image/png": "[encoded data removed]",
      "text/plain": [
       "<Figure size 1152x648 with 1 Axes>"
      ]
     },
     "metadata": {},
     "output_type": "display_data"
    }
   ],
   "source": [
    "plt.plot(xx,sigmoid(xx),'b-')\n",
    "plt.plot(xx,sigmoid_derivative(sigmoid(xx)),'r-')\n",
    "plt.show()"
   ]
  },
  {
   "cell_type": "markdown",
   "metadata": {},
   "source": [
    "## Neural Networks consist of the following components\n",
    "\n",
    "* An input layer, x\n",
    "* An arbitrary amount of hidden layers\n",
    "* An output layer, ŷ\n",
    "* A set of weights and biases between each layer, W and b\n",
    "* A choice of activation function for each hidden layer, σ. In this tutorial, we’ll use a Sigmoid activation function.\n",
    "* The diagram below shows the architecture of a 2-layer Neural Network (note that the input layer is typically excluded when counting the number of layers in a Neural Network)\n",
    "\n",
    "![](https://cdn-images-1.medium.com/max/800/1*sX6T0Y4aa3ARh7IBS_sdqw.png)"
   ]
  },
  {
   "cell_type": "markdown",
   "metadata": {},
   "source": [
    "### Training the Neural Network\n",
    "\n",
    "The output ŷ of a simple 2-layer Neural Network is:\n",
    "\n",
    "$$ y = \\sigma{(W_2\\sigma{(W_1 x + b_1)} + b_2)}  $$\n",
    "\n",
    "\n",
    "You might notice that in the equation above, the weights W and the biases b are the only variables that affects the output ŷ.\n",
    "\n",
    "Naturally, the right values for the weights and biases determines the strength of the predictions. The process of fine-tuning the weights and biases from the input data is known as training the Neural Network.\n",
    "\n",
    "\n",
    "Each iteration of the training process consists of the following steps:\n",
    "\n",
    "* Calculating the predicted output ŷ, known as feedforward\n",
    "* Updating the weights and biases, known as backpropagation.\n",
    "\n",
    "The sequential graph below illustrates the process.\n",
    "\n",
    "![](https://cdn-images-1.medium.com/max/800/1*CEtt0h8Rss_qPu7CyqMTdQ.png)\n",
    "\n",
    "\n"
   ]
  },
  {
   "cell_type": "markdown",
   "metadata": {},
   "source": [
    "### Backpropagation\n",
    "\n",
    "![](https://cdn-images-1.medium.com/max/1800/1*7zxb2lfWWKaVxnmq2o69Mw.png)"
   ]
  },
  {
   "cell_type": "code",
   "execution_count": 52,
   "metadata": {},
   "outputs": [],
   "source": [
    "class NeuralNetwork:\n",
    "    def __init__(self, x, y):\n",
    "        self.input = x\n",
    "        self.weights1 = np.random.rand(self.input.shape[1], 4)\n",
    "        self.weights2 = np.random.rand(4, 1)\n",
    "        self.y = y\n",
    "        self.output = np.zeros(self.y.shape)\n",
    "        \n",
    "        \n",
    "    def feedforward(self):\n",
    "        self.layer1 = sigmoid(np.dot(self.input , self.weights1))\n",
    "        self.layer2 = sigmoid(np.dot(self.layer1 , self.weights2))\n",
    "        return self.layer2\n",
    "\n",
    "    def backprop(self):\n",
    "        d_weights2 = np.dot(self.layer1.T , (2*(self.y - self.output) * sigmoid_derivative(self.output)))\n",
    "        d_weights1 = np.dot(self.input.T , (np.dot(2*(self.y - self.output) * sigmoid_derivative(self.output), self.weights2.T) *  sigmoid_derivative(self.layer1)))\n",
    "        \n",
    "        #update the weights with the derivative (slope)  of the loss function                   \n",
    "        self.weights1 += d_weights1\n",
    "        self.weights2 += d_weights2\n",
    "        \n",
    "    def train(self):\n",
    "        self.output = self.feedforward()\n",
    "        self.backprop()\n",
    "        \n",
    "   "
   ]
  },
  {
   "cell_type": "markdown",
   "metadata": {},
   "source": [
    "## Loss Function\n",
    "There are many available loss functions, and the nature of our problem should dictate our choice of loss function. In this tutorial, we’ll use a simple sum-of-sqaures error as our loss function.\n",
    "\n"
   ]
  },
  {
   "cell_type": "markdown",
   "metadata": {},
   "source": [
    "\n",
    "sum - of -squares  Error = sum(y-y)^2 "
   ]
  },
  {
   "cell_type": "code",
   "execution_count": 53,
   "metadata": {},
   "outputs": [
    {
     "name": "stdout",
     "output_type": "stream",
     "text": [
      "For iteration 0 \n",
      " Input:[[1. 0. 1.]\n",
      " [0. 1. 1.]\n",
      " [1. 0. 1.]\n",
      " [1. 1. 1.]] \n",
      " Actual Output : [[0.]\n",
      " [1.]\n",
      " [1.]\n",
      " [0.]] \n",
      "   \n",
      "        Predicted Output : [[0.7883838 ]\n",
      " [0.79467201]\n",
      " [0.7883838 ]\n",
      " [0.81517954]] \n",
      " Loss: -0.29665478594769135 \n",
      "For iteration 100 \n",
      " Input:[[1. 0. 1.]\n",
      " [0. 1. 1.]\n",
      " [1. 0. 1.]\n",
      " [1. 1. 1.]] \n",
      " Actual Output : [[0.]\n",
      " [1.]\n",
      " [1.]\n",
      " [0.]] \n",
      "   \n",
      "        Predicted Output : [[0.47645885]\n",
      " [0.87972053]\n",
      " [0.47645885]\n",
      " [0.1739196 ]] \n",
      " Loss: -0.001639456886734128 \n",
      "For iteration 200 \n",
      " Input:[[1. 0. 1.]\n",
      " [0. 1. 1.]\n",
      " [1. 0. 1.]\n",
      " [1. 1. 1.]] \n",
      " Actual Output : [[0.]\n",
      " [1.]\n",
      " [1.]\n",
      " [0.]] \n",
      "   \n",
      "        Predicted Output : [[0.49578437]\n",
      " [0.94018359]\n",
      " [0.49578437]\n",
      " [0.07817594]] \n",
      " Loss: -0.002482069623474758 \n",
      "For iteration 300 \n",
      " Input:[[1. 0. 1.]\n",
      " [0. 1. 1.]\n",
      " [1. 0. 1.]\n",
      " [1. 1. 1.]] \n",
      " Actual Output : [[0.]\n",
      " [1.]\n",
      " [1.]\n",
      " [0.]] \n",
      "   \n",
      "        Predicted Output : [[0.49801179]\n",
      " [0.95720114]\n",
      " [0.49801179]\n",
      " [0.05467904]] \n",
      " Loss: -0.0019759418771202446 \n",
      "For iteration 400 \n",
      " Input:[[1. 0. 1.]\n",
      " [0. 1. 1.]\n",
      " [1. 0. 1.]\n",
      " [1. 1. 1.]] \n",
      " Actual Output : [[0.]\n",
      " [1.]\n",
      " [1.]\n",
      " [0.]] \n",
      "   \n",
      "        Predicted Output : [[0.49875967]\n",
      " [0.96539296]\n",
      " [0.49875967]\n",
      " [0.0436844 ]] \n",
      " Loss: -0.001649173294718401 \n",
      "For iteration 500 \n",
      " Input:[[1. 0. 1.]\n",
      " [0. 1. 1.]\n",
      " [1. 0. 1.]\n",
      " [1. 1. 1.]] \n",
      " Actual Output : [[0.]\n",
      " [1.]\n",
      " [1.]\n",
      " [0.]] \n",
      "   \n",
      "        Predicted Output : [[0.49911867]\n",
      " [0.97034572]\n",
      " [0.49911867]\n",
      " [0.03713339]] \n",
      " Loss: -0.0014291115925664372 \n",
      "For iteration 600 \n",
      " Input:[[1. 0. 1.]\n",
      " [0. 1. 1.]\n",
      " [1. 0. 1.]\n",
      " [1. 1. 1.]] \n",
      " Actual Output : [[0.]\n",
      " [1.]\n",
      " [1.]\n",
      " [0.]] \n",
      "   \n",
      "        Predicted Output : [[0.49932518]\n",
      " [0.97372318]\n",
      " [0.49932518]\n",
      " [0.03270856]] \n",
      " Loss: -0.0012705253617901011 \n",
      "For iteration 700 \n",
      " Input:[[1. 0. 1.]\n",
      " [0. 1. 1.]\n",
      " [1. 0. 1.]\n",
      " [1. 1. 1.]] \n",
      " Actual Output : [[0.]\n",
      " [1.]\n",
      " [1.]\n",
      " [0.]] \n",
      "   \n",
      "        Predicted Output : [[0.49945766]\n",
      " [0.97620383]\n",
      " [0.49945766]\n",
      " [0.02948136]] \n",
      " Loss: -0.0011501268757357882 \n",
      "For iteration 800 \n",
      " Input:[[1. 0. 1.]\n",
      " [0. 1. 1.]\n",
      " [1. 0. 1.]\n",
      " [1. 1. 1.]] \n",
      " Actual Output : [[0.]\n",
      " [1.]\n",
      " [1.]\n",
      " [0.]] \n",
      "   \n",
      "        Predicted Output : [[0.38924099]\n",
      " [0.97208389]\n",
      " [0.38924099]\n",
      " [0.02196664]] \n",
      " Loss: 0.05686687061822529 \n",
      "For iteration 900 \n",
      " Input:[[1. 0. 1.]\n",
      " [0. 1. 1.]\n",
      " [1. 0. 1.]\n",
      " [1. 1. 1.]] \n",
      " Actual Output : [[0.]\n",
      " [1.]\n",
      " [1.]\n",
      " [0.]] \n",
      "   \n",
      "        Predicted Output : [[0.46583224]\n",
      " [0.97522955]\n",
      " [0.46583224]\n",
      " [0.02594434]] \n",
      " Loss: 0.016790405492114507 \n"
     ]
    }
   ],
   "source": [
    "# Define dataset\n",
    "X = np.array(([1, 0, 1], [0, 1, 1], [1, 0, 1], [1, 1, 1]), dtype = float)\n",
    "y = np.array(([0], [1], [1], [0]), dtype = float)\n",
    "\n",
    "# Train\n",
    "NN = NeuralNetwork(X , y)\n",
    "for i in range(1000):\n",
    "    if i % 100 == 0 :\n",
    "        print(f'''For iteration {i} \\n Input:{X} \\n Actual Output : {y} \\n   \n",
    "        Predicted Output : {NN.feedforward()} \\n Loss: {np.mean(np.square(y)- NN.feedforward())} ''')\n",
    "        \n",
    "    NN.train()"
   ]
  },
  {
   "cell_type": "code",
   "execution_count": null,
   "metadata": {},
   "outputs": [],
   "source": []
  }
 ],
 "metadata": {
  "kernelspec": {
   "display_name": "Python 3",
   "language": "python",
   "name": "python3"
  },
  "language_info": {
   "codemirror_mode": {
    "name": "ipython",
    "version": 3
   },
   "file_extension": ".py",
   "mimetype": "text/x-python",
   "name": "python",
   "nbconvert_exporter": "python",
   "pygments_lexer": "ipython3",
   "version": "3.6.5"
  }
 },
 "nbformat": 4,
 "nbformat_minor": 2
}
